{
 "cells": [
  {
   "cell_type": "code",
   "execution_count": 7,
   "metadata": {},
   "outputs": [],
   "source": [
    "from modules.timing import get_timing\n",
    "from modules.helpers import generate_random_float_list, generate_random_int_list\n",
    "import matplotlib.pyplot as plt"
   ]
  },
  {
   "cell_type": "markdown",
   "metadata": {},
   "source": [
    "## Quick sort\n",
    "\n",
    "Hieronder staat een recursieve implementatie van het quick sorting algoritme. De iteratieve versie van quicksort is veel schrijfwerk en erg lastig te lezen en te begrijpen.\n",
    "\n",
    "Quick sorting algoritme is gebaseerd op het idee van 'divide and conquer'. Er wordt gewerkt met een zogenaamde pivot. Deze pivot is altijd het element in de (sub)lijst zodanig dat alle elementen aan de linker kant kleiner zijn dan deze pivot. Daarom is de eerst pivot altijd het eerste element van de (sub)lijst.\n",
    "\n",
    "Als de eerste pivot gekozen is, wordt er door de lijst heen gelopen en wordt alle lagere, gelijke en hogere getallen dan de pivot opgeslagen in lijsten. De lijsten met hogere en lagere elementen worden opnieuw gesorteerd met hetzelfde proces. Aangezien er geen hogere of lagere getallen dan gelijke getallen zijn, hoeven de gelijk getallen niet gesorteerd te worden, maar alleen op de juiste plek bewaard te worden. Dit proces van splitsen van lagere, gelijke en hogere getallen wordt herhaald tot de lagere, gelijke en hogere getallenlijsten niet meer dan 1 element bevatten. Al deze kleine lijsten worden samengevoegd tot de gesorteerde lijst.\n",
    "\n",
    "Er zijn ook andere implementaties waarbij er geen lijsten van lagere, gelijke en hogere getallen bijgehouden wordt, maar items worden gewisseld. Ik vond deze implementatie het best te begrijpen, zowel qua code als algoritmiek."
   ]
  },
  {
   "cell_type": "code",
   "execution_count": 8,
   "metadata": {},
   "outputs": [],
   "source": [
    "def quick_sort(data):\n",
    "    \n",
    "    n = len(data)\n",
    "    smaller, equal, bigger = [], [], []\n",
    "\n",
    "    # list is already sorted\n",
    "    if n < 2:\n",
    "        return data\n",
    "    \n",
    "    # pivot is always the first element of the (sub) array\n",
    "    pivot = data[0]\n",
    "    \n",
    "    # loop over list\n",
    "    for i in range(n):\n",
    "        \n",
    "        if data[i] < pivot:\n",
    "            smaller.append(data[i])\n",
    "            \n",
    "        elif data[i] == pivot:\n",
    "            equal.append(data[i])\n",
    "            \n",
    "        else:\n",
    "            bigger.append(data[i])\n",
    "\n",
    "    return quick_sort(smaller) + equal + quick_sort(bigger)"
   ]
  },
  {
   "cell_type": "markdown",
   "metadata": {},
   "source": [
    "### Big O\n",
    "\n",
    "De gemiddelde en beste tijdscomplexiteit van bucket sort is O(n log(n)) waar n voor lijst grootte staat. De runtime van dit algoritme is over het algemeen erg snel omdat er gewerkt wordt met lijsten en lijstindexen, en er een enkele for loop gebruikt wordt. Dit algoritme gebruikt erg weinig geheugen omdat bij elke stap een stukje resultaat al wordt opgeslagen en de dimensie van lijsten steeds afneemt.\n",
    "\n",
    "De slechtse tijdscomplexiteit die dit algoritme kan hebben is O(n^2), een kwadratisch verloop. Dit komt voor als de gekozen pivot steeds het hoogste of laagste element van de lijst is, en het aantal functie aanroepen flink toeneemt. De runtime van dit algoritme is dan ook erg afhankelijk van hoe de elementen over een lijst verspreid zijn.\n",
    "\n",
    "Hieronder is te zien dat in de meeste gevallen waar de complexiteit niet O(n^2) is, het tijdverloop linear is."
   ]
  },
  {
   "cell_type": "code",
   "execution_count": 9,
   "metadata": {},
   "outputs": [
    {
     "data": {
      "image/png": "[encoded data removed]",
      "text/plain": [
       "<Figure size 432x288 with 1 Axes>"
      ]
     },
     "metadata": {
      "needs_background": "light"
     },
     "output_type": "display_data"
    }
   ],
   "source": [
    "# print and plot timings\n",
    "tests = [generate_random_float_list(i) for i in range(1, 1000, 10)]\n",
    "timings = get_timing(function=quick_sort, parameters=tests, repeat=100)\n",
    "plt.scatter(list(timings[1].keys()), list(timings[1].values()))\n",
    "plt.xlabel(\"List size\")\n",
    "plt.ylabel(\"Time in sec\")\n",
    "plt.show()"
   ]
  }
 ],
 "metadata": {
  "kernelspec": {
   "display_name": "Python 3",
   "language": "python",
   "name": "python3"
  },
  "language_info": {
   "codemirror_mode": {
    "name": "ipython",
    "version": 3
   },
   "file_extension": ".py",
   "mimetype": "text/x-python",
   "name": "python",
   "nbconvert_exporter": "python",
   "pygments_lexer": "ipython3",
   "version": "3.7.1"
  }
 },
 "nbformat": 4,
 "nbformat_minor": 2
}
