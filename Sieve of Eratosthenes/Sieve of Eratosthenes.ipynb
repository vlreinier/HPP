{
 "cells": [
  {
   "cell_type": "code",
   "execution_count": 5,
   "metadata": {},
   "outputs": [],
   "source": [
    "import timeit"
   ]
  },
  {
   "cell_type": "code",
   "execution_count": 6,
   "metadata": {},
   "outputs": [],
   "source": [
    "def function_timing(function, repeat=5, *argv):\n",
    "    return timeit.timeit(lambda: function(*argv), number=repeat)"
   ]
  },
  {
   "cell_type": "code",
   "execution_count": 7,
   "metadata": {},
   "outputs": [],
   "source": [
    "def Sieve_Of_Eratosthenes(N) -> [int]:\n",
    "    \n",
    "    k = 2\n",
    "    N = N + 1\n",
    "    sieve = [False if i in [0,1] else True for i in range(N)]\n",
    "    \n",
    "    while k ** 2 <= N:\n",
    "        \n",
    "        for i in range(k ** 2, N):\n",
    "            if i % k == 0:\n",
    "                sieve[i] = False\n",
    "                \n",
    "        for i in range(k + 1, N):\n",
    "            if sieve[i] == True:\n",
    "                k = i\n",
    "                break\n",
    "\n",
    "    return [i for i in range(N) if sieve[i]]"
   ]
  },
  {
   "cell_type": "code",
   "execution_count": 8,
   "metadata": {},
   "outputs": [
    {
     "name": "stdout",
     "output_type": "stream",
     "text": [
      "9.875552300000003\n"
     ]
    }
   ],
   "source": [
    "seq_billion = function_timing(Sieve_Of_Eratosthenes, 1, (1000000))\n",
    "print(seq_billion)"
   ]
  },
  {
   "cell_type": "code",
   "execution_count": null,
   "metadata": {},
   "outputs": [],
   "source": []
  }
 ],
 "metadata": {
  "kernelspec": {
   "display_name": "Python 3",
   "language": "python",
   "name": "python3"
  },
  "language_info": {
   "codemirror_mode": {
    "name": "ipython",
    "version": 3
   },
   "file_extension": ".py",
   "mimetype": "text/x-python",
   "name": "python",
   "nbconvert_exporter": "python",
   "pygments_lexer": "ipython3",
   "version": "3.7.1"
  }
 },
 "nbformat": 4,
 "nbformat_minor": 2
}
