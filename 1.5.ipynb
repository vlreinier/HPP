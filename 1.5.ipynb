{
 "cells": [
  {
   "cell_type": "code",
   "execution_count": 262,
   "metadata": {
    "scrolled": true
   },
   "outputs": [],
   "source": [
    "from modules.timing import get_timing\n",
    "from modules.helpers import generate_random_float_list, generate_random_int_list\n",
    "import matplotlib.pyplot as plt\n",
    "from modules.sorting import selection_sort"
   ]
  },
  {
   "cell_type": "markdown",
   "metadata": {},
   "source": [
    "### Bucket sort\n",
    "\n",
    "Dit algoritme loopt door de gehele lijst heen en plaatst elementen in een bucket. De bucket wordt gekozen aan de hand van de verhouding tussen het grootste element van de lijst en de lengte van de lijst. Als alle elementen in een bucket zijn geplaatst worden alle elementen in de buckets gesorteerd a.d.h.v. een ander gekozen sorteer algoritme. Ik heb in onderstaande implementatie gekozen voor pythons eigen sorteer functie.\n",
    "Als alle buckets gesorteerd zijn, worden de gesorteerde elementen uit alle buckets achter elkaar geplaatst en is er een sorteerde lijst gecreeerd."
   ]
  },
  {
   "cell_type": "code",
   "execution_count": 263,
   "metadata": {},
   "outputs": [],
   "source": [
    "def bucket_sort_positive_floats(data):\n",
    "    \n",
    "    # size of data list and ratio for choosing index\n",
    "    n = len(data)\n",
    "    r = max(data) / n\n",
    "\n",
    "    # empty buckets\n",
    "    buckets = [[] for bucket in range(n)]\n",
    "    \n",
    "    # fill buckets on index\n",
    "    for i in range(n):\n",
    "        idx = int(data[i] / r)\n",
    "        if idx < n:\n",
    "            buckets[idx].append(data[i])\n",
    "        else:\n",
    "            buckets[n-1].append(data[i])\n",
    "\n",
    "    # sort individual buckets with pythons sort algorithm and get nested items\n",
    "    sorted_array = [num for bucket in buckets for num in sorted(bucket)]\n",
    "    \n",
    "    return sorted_array"
   ]
  },
  {
   "cell_type": "code",
   "execution_count": 264,
   "metadata": {},
   "outputs": [
    {
     "name": "stdout",
     "output_type": "stream",
     "text": [
      "Original list:\n",
      "[6.242738594424678, 7.181558050037031, 6.864802825276559, 4.412202450214947, 3.270168320776896, 8.191186230002184, 9.247861640805615, 6.849556244391826, 4.6209893334958965, 8.52328650085925]\n",
      "\n",
      "Sorted list by bucket sort:\n",
      "[3.270168320776896, 4.412202450214947, 4.6209893334958965, 6.242738594424678, 6.849556244391826, 6.864802825276559, 7.181558050037031, 8.191186230002184, 8.52328650085925, 9.247861640805615]\n"
     ]
    }
   ],
   "source": [
    "# test algorithm\n",
    "test = generate_random_float_list(10)\n",
    "print(\"Original list:\")\n",
    "print(test)\n",
    "sorted_list = bucket_sort_positive_floats(test)\n",
    "print(\"\\nSorted list by bucket sort:\")\n",
    "print(sorted_list)"
   ]
  },
  {
   "cell_type": "markdown",
   "metadata": {},
   "source": [
    "### Big O\n",
    "\n",
    "De gemiddelde en beste tijdscomplexiteit van bucket sort is O(n+k) waar n voor lijst grootte, en k voor het aantal buckets staat. De runtime van dit algoritme is over het algemeen erg snel omdat er gewerkt wordt met lijsten en lijstindexen, en er een enkele for loop gebruikt wordt. Dit algoritme gebruikt wel meer geheugen net zoals het merge sort algoritme vanwege het gebruik van vele lijsten. \n",
    "\n",
    "Dit runtime is afhankelijk van het aantal gevulde buckets, en het aantal items per bucket.\n",
    "De slechtse tijdscomplexiteit die dit algoritme kan hebben is O(n^2), een kwadratisch verloop. Dit komt voor als alle elementen in 1 bucket vallen en het algoritme dat is gekozen om de buckets te sorteren een tijdscomplexiteit van O(n^2) heeft.\n",
    "\n",
    "Hieronder is te zien dat in het geval van een redelijk spreiding van getallen, zoals een functie van de module random ons garandeert, het tijdverloop linear is."
   ]
  },
  {
   "cell_type": "code",
   "execution_count": 265,
   "metadata": {},
   "outputs": [
    {
     "data": {
      "image/png": "[encoded data removed]",
      "text/plain": [
       "<Figure size 432x288 with 1 Axes>"
      ]
     },
     "metadata": {
      "needs_background": "light"
     },
     "output_type": "display_data"
    }
   ],
   "source": [
    "# print and plot timings\n",
    "tests = [generate_random_float_list(i) for i in range(1, 500, 10)]\n",
    "timings = get_timing(function=bucket_sort_positive_floats, parameters=tests, repeat=100)\n",
    "plt.plot(list(timings[1].keys()), list(timings[1].values()))\n",
    "plt.xlabel(\"List size\")\n",
    "plt.ylabel(\"Time in sec\")\n",
    "plt.show()"
   ]
  }
 ],
 "metadata": {
  "kernelspec": {
   "display_name": "Python 3",
   "language": "python",
   "name": "python3"
  },
  "language_info": {
   "codemirror_mode": {
    "name": "ipython",
    "version": 3
   },
   "file_extension": ".py",
   "mimetype": "text/x-python",
   "name": "python",
   "nbconvert_exporter": "python",
   "pygments_lexer": "ipython3",
   "version": "3.7.1"
  }
 },
 "nbformat": 4,
 "nbformat_minor": 2
}
