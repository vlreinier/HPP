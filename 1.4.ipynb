{
 "cells": [
  {
   "cell_type": "markdown",
   "metadata": {},
   "source": [
    "1.\n",
    "\n",
    "\n",
    "Een cluster computer gebruikt 1400 W = 1400 joule per seconde.<br>\n",
    "1400 W is het verbruik over een uur / 1000 = 1.4 kW verbruik per uur.<br>\n",
    "1.4 kW * 1000 uur = 1400 kWh verbruik per 1000 uur.<br>\n",
    "\n",
    "\n",
    "2.\n",
    "\n",
    "\n",
    "Een auto verbruikt 475 km / 20 km = 23.75 liter van Utrecht naar Parijs.<br>\n",
    "Een liter diesel bevat 10 kWh * 0.15 = 1.5 kWh energie om voort te bewegen.<br>\n",
    "De auto gebruikt 23.75 liter * 1.5 kWh = 35,625 kWh energie om 475 km voor te bewegen.<br>\n",
    "Terwijl er werkelijk 23.75 liter * 10 kWh = 237.5 kWh energie verbruikt wordt in de rit.<br>\n",
    "\n",
    "De auto kan 1400 kWh / 10 kWh = 140 liter brandstof gebruiken met deze energie.<br>\n",
    "Daarmee kan 140 liter * 20 km = 2800 km afgelegd worden.<br>\n",
    "In 2800 km kan een dieselauto 2800 / 475 = ong. 5,9 keer heen en ong. 2,95 keer heen en weer rijden.<br>\n",
    "\n",
    "\n",
    "3.\n",
    "\n",
    "\n",
    "Er is 1400 kWh / 1000 uur = 1.4 kWh elk uur voor het cluster nodig aan energie.<br>\n",
    "1.4 kWh / 10 kWh = 0.14 liter diesel nodig om het cluster elk uur draaiend te houden als de diesel voor 100% gebruikt wordt.<br>\n",
    "1.4 kWh / 1.5 kWh = 0.93 liter diesel nodig om het cluster elk uur draaiend te houden als de diesel voor 15% gebruikt wordt.<br>\n",
    "Wat neerkomt op een diesel verbruik over 1000 uur van 140 of 930 liter diesel.<br>\n",
    "\n",
    "\n",
    "4.\n",
    "\n",
    "\n",
    "Als de proces tijd van het cluster een vierde daalt, zal het gebruik in 1000 uur 1400 kWh / 4 = 350 kWh zijn.<br>\n",
    "Als de auto 10 kWh per liter verbruikt, is het aantal beschikbare liters 350 kWh / 10 kWh = 35 liter diesel.<br>\n",
    "Met 35 liter kan 35 liter * 20 km = 700 km afgelegd worden, wat nog geen 1 keer heen en weer is met 475 km.<br>\n"
   ]
  }
 ],
 "metadata": {
  "kernelspec": {
   "display_name": "Python 3",
   "language": "python",
   "name": "python3"
  },
  "language_info": {
   "codemirror_mode": {
    "name": "ipython",
    "version": 3
   },
   "file_extension": ".py",
   "mimetype": "text/x-python",
   "name": "python",
   "nbconvert_exporter": "python",
   "pygments_lexer": "ipython3",
   "version": "3.7.1"
  }
 },
 "nbformat": 4,
 "nbformat_minor": 2
}
