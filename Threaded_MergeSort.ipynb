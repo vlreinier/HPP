{
 "cells": [
  {
   "cell_type": "code",
   "execution_count": null,
   "metadata": {},
   "outputs": [],
   "source": [
    "from multiprocessing import Manager, Pool\n",
    "from modules.sorting import merge_sort, merge_sort_v2, merge_sort_to_array\n",
    "from modules.helpers import generate_random_int_list\n",
    "from modules.timing import function_timing"
   ]
  },
  {
   "cell_type": "code",
   "execution_count": null,
   "metadata": {},
   "outputs": [],
   "source": [
    "def merge_higher_dimensions_lists(lst):\n",
    "    idx = [0] * len(lst)\n",
    "    out = []\n",
    "    while len(lst) > 0:\n",
    "        m = 0\n",
    "        for i in range(len(lst)):\n",
    "            if lst[i][idx[i]] < lst[m][idx[m]]:\n",
    "                m = i\n",
    "        out.append(lst[m][idx[m]])\n",
    "        idx[m] += 1\n",
    "        if idx[m] >= len(lst[m]):\n",
    "            del lst[m]\n",
    "            del idx[m]\n",
    "    return out"
   ]
  },
  {
   "cell_type": "code",
   "execution_count": null,
   "metadata": {},
   "outputs": [],
   "source": [
    "def threaded_merge_sort(array, threads):\n",
    "    \n",
    "    # Create multiprocessing objects\n",
    "    thread_manager = Manager()\n",
    "    result_manager = thread_manager.list()\n",
    "    pool = Pool(threads)\n",
    "    \n",
    "    # Add asynchronous processes to pool\n",
    "    for i in range(threads):\n",
    "        pool.apply_async(merge_sort_to_array, (result_manager, array[i::threads]))\n",
    "    \n",
    "    # Close pool, start, and wait till all processes are finished\n",
    "    pool.close()\n",
    "    pool.join()\n",
    "    \n",
    "    # Merge sort higher dimensional lists\n",
    "    return merge_higher_dimensions_lists(result_manager)"
   ]
  },
  {
   "cell_type": "code",
   "execution_count": null,
   "metadata": {},
   "outputs": [],
   "source": [
    "if __name__ == '__main__':\n",
    "\n",
    "    # Test functions\n",
    "    array = generate_random_int_list(20000)\n",
    "    print(merge_sort(array) == sorted(array))\n",
    "    print(threaded_merge_sort(array, 1) == sorted(array))\n",
    "    print(threaded_merge_sort(array, 3) == sorted(array))\n",
    "    print(threaded_merge_sort(array, 8) == sorted(array))\n",
    "    print()\n",
    "    \n",
    "    # Timings\n",
    "    array = generate_random_int_list(100)\n",
    "    print(\"Normal time: \" + str(function_timing(merge_sort, 1, array)))\n",
    "    for i in range(2, 8, 2):\n",
    "        print(f\"{i} thread(s): \" + str(function_timing(threaded_merge_sort, 1, array, i)))"
   ]
  }
 ],
 "metadata": {
  "kernelspec": {
   "display_name": "Python 3",
   "language": "python",
   "name": "python3"
  },
  "language_info": {
   "codemirror_mode": {
    "name": "ipython",
    "version": 3
   },
   "file_extension": ".py",
   "mimetype": "text/x-python",
   "name": "python",
   "nbconvert_exporter": "python",
   "pygments_lexer": "ipython3",
   "version": "3.7.1"
  }
 },
 "nbformat": 4,
 "nbformat_minor": 2
}
