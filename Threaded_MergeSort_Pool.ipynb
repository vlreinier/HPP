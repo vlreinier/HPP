{
 "cells": [
  {
   "cell_type": "code",
   "execution_count": null,
   "metadata": {},
   "outputs": [],
   "source": [
    "from heapq import merge as merge_sorted_lists\n",
    "from multiprocessing import Manager, Pool\n",
    "from modules.sorting import merge_sort, merge_sort_v2, merge_sort_v3, append_sorted_list\n",
    "from modules.helpers import generate_random_int_list, generate_random_float_list\n",
    "from modules.timing import function_timing\n",
    "import matplotlib.pyplot as plt\n",
    "import time\n",
    "import timeit"
   ]
  },
  {
   "cell_type": "code",
   "execution_count": null,
   "metadata": {},
   "outputs": [],
   "source": [
    "def threaded_merge_sort(array, threads):\n",
    "    \n",
    "    # start time\n",
    "    start = time.time()\n",
    "    \n",
    "    # Create multiprocessing objects\n",
    "    thread_manager = Manager()\n",
    "    result_manager = thread_manager.list()\n",
    "    pool = Pool(threads)\n",
    "    \n",
    "    # Add asynchronous processes to pool\n",
    "    for i in range(threads):\n",
    "        pool.apply_async(append_sorted_list, (result_manager, array[i::threads]))\n",
    "    \n",
    "    # Close pool, start, and wait till all processes are finished\n",
    "    pool.close()\n",
    "    pool.join()\n",
    "    \n",
    "    # Merge sorted lists back into one sorted list\n",
    "    result = list(merge_sorted_lists(*result_manager))\n",
    "    \n",
    "    # Save run time\n",
    "    timer = time.time() - start\n",
    "    \n",
    "    # Merge sort higher dimensional list with module merge from heapq\n",
    "    return result, timer"
   ]
  },
  {
   "cell_type": "code",
   "execution_count": null,
   "metadata": {},
   "outputs": [],
   "source": [
    "if __name__ == '__main__':\n",
    "    \n",
    "    # Random list with floats or ints\n",
    "    array = generate_random_float_list(100000)\n",
    "    \n",
    "    # Timings\n",
    "    results = []\n",
    "    print(\"Python Sorted time: \" + str(timeit.timeit(lambda: sorted(array), number=1)))\n",
    "    for i in range(1, 9):\n",
    "        sorted_array, timing = threaded_merge_sort(array, i)\n",
    "        results.append(timing)\n",
    "        print(f\"{i} thread(s): {str(timing)} | Equal to sorted(array): {sorted_array == sorted(array)}\")\n",
    "        \n",
    "    # Plot timings\n",
    "    plt.figure(figsize=(12,6))\n",
    "    plt.plot(list(range(1, len(results)+1)), results)\n",
    "    plt.xlabel(\"number of threads\")\n",
    "    plt.ylabel(\"runtime in seconds\")\n",
    "    plt.xticks(list(range(1,len(results)+1)))"
   ]
  },
  {
   "cell_type": "code",
   "execution_count": null,
   "metadata": {},
   "outputs": [],
   "source": []
  }
 ],
 "metadata": {
  "kernelspec": {
   "display_name": "Python 3",
   "language": "python",
   "name": "python3"
  },
  "language_info": {
   "codemirror_mode": {
    "name": "ipython",
    "version": 3
   },
   "file_extension": ".py",
   "mimetype": "text/x-python",
   "name": "python",
   "nbconvert_exporter": "python",
   "pygments_lexer": "ipython3",
   "version": "3.7.4"
  }
 },
 "nbformat": 4,
 "nbformat_minor": 2
}
