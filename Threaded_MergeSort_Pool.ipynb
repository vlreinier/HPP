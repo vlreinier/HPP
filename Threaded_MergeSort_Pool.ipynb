{
 "cells": [
  {
   "cell_type": "code",
   "execution_count": 1,
   "metadata": {},
   "outputs": [],
   "source": [
    "from multiprocessing import Manager, Pool\n",
    "from modules.sorting import merge_sort_recursive, merge_sort_iterative, append_sorted_list, append_merged_lists\n",
    "from modules.helpers import generate_random_int_list, generate_random_float_list\n",
    "from modules.timing import function_timing\n",
    "from contextlib import contextmanager\n",
    "import matplotlib.pyplot as plt\n",
    "import time"
   ]
  },
  {
   "cell_type": "code",
   "execution_count": 2,
   "metadata": {},
   "outputs": [],
   "source": [
    "@contextmanager\n",
    "def create_pool(threads):\n",
    "    pool = Pool(threads)\n",
    "    yield pool\n",
    "    pool.close()\n",
    "    pool.join()"
   ]
  },
  {
   "cell_type": "code",
   "execution_count": 3,
   "metadata": {},
   "outputs": [],
   "source": [
    "def threaded_merge_sort(function, array, threads):\n",
    "    \n",
    "    # if no threads, return normal merge sort results and timing\n",
    "    if threads == 0:\n",
    "        return function(array), function_timing(function, 1, array)\n",
    "    \n",
    "    else:\n",
    "        # Create multiprocessing objects and start timer\n",
    "        start = time.time()\n",
    "        thread_manager = Manager()\n",
    "        result_manager = thread_manager.list()\n",
    "\n",
    "        # Add asynchronous processes to pool\n",
    "        with create_pool(threads) as pool:\n",
    "            for i in range(threads):\n",
    "                pool.apply_async(append_sorted_list, (function, result_manager, array[i::threads]))\n",
    "\n",
    "        # Merge sorted lists back into one sorted list\n",
    "        while len(result_manager) > 1:\n",
    "            with create_pool(threads) as pool:\n",
    "                pool.apply_async(append_merged_lists, (result_manager, result_manager.pop(0), result_manager.pop(0)))\n",
    "        \n",
    "        # Merge sort higher dimensional list with module merge from heapq\n",
    "        return result_manager[0], (time.time() - start)"
   ]
  },
  {
   "cell_type": "code",
   "execution_count": null,
   "metadata": {},
   "outputs": [],
   "source": [
    "if __name__ == '__main__':\n",
    "    \n",
    "    array_sizes = [200000]\n",
    "    for array_length in array_sizes:\n",
    "        # Test array\n",
    "        array = generate_random_int_list(array_length)\n",
    "\n",
    "        # Timings\n",
    "        results = {'recursive': [], 'iterative': []}\n",
    "        for i in [0, 1, 2, 4, 8]:\n",
    "            sorted_array_recursive, timing_recursive = threaded_merge_sort(merge_sort_recursive, array, i)\n",
    "            sorted_array_iterative, timing_iterative = threaded_merge_sort(merge_sort_iterative, array, i)\n",
    "            results['recursive'].append(timing_recursive)\n",
    "            results['iterative'].append(timing_iterative)\n",
    "            print(f\"{i} thread(s): \\n\\\n",
    "                Timing in seconds (iterative): {str(timing_iterative)} | Verify: {sorted_array_iterative == sorted(array)}\\n\\\n",
    "                Timing in seconds (recursive): {str(timing_recursive)} | Verify: {sorted_array_recursive == sorted(array)}\\n\")\n",
    "\n",
    "\n",
    "        # Plot timings for iterative and recursive functions\n",
    "        plt.figure(figsize=(14, 7))\n",
    "        plt.title(f\"Array size {str(array_length)}\")\n",
    "        for i in results:\n",
    "            plt.xlabel(\"number of threads\")\n",
    "            plt.ylabel(\"runtime in seconds\")\n",
    "            plt.plot(list(range(1, len(results[i])+1)), results[i])\n",
    "        plt.legend(list(results.keys()), loc='upper left')\n",
    "        plt.show()"
   ]
  }
 ],
 "metadata": {
  "kernelspec": {
   "display_name": "Python 3",
   "language": "python",
   "name": "python3"
  },
  "language_info": {
   "codemirror_mode": {
    "name": "ipython",
    "version": 3
   },
   "file_extension": ".py",
   "mimetype": "text/x-python",
   "name": "python",
   "nbconvert_exporter": "python",
   "pygments_lexer": "ipython3",
   "version": "3.7.1"
  }
 },
 "nbformat": 4,
 "nbformat_minor": 2
}
