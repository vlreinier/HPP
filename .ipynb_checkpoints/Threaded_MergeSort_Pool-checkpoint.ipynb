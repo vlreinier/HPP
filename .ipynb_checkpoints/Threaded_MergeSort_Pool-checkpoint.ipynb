{
 "cells": [
  {
   "cell_type": "code",
   "execution_count": 7,
   "metadata": {},
   "outputs": [],
   "source": [
    "from heapq import merge as merge_sorted_lists\n",
    "from multiprocessing import Manager, Pool\n",
    "from modules.sorting import merge_sort, merge_sort_v2, merge_sort_v3, append_sorted_list\n",
    "from modules.helpers import generate_random_int_list, generate_random_float_list\n",
    "from modules.timing import function_timing\n",
    "import matplotlib.pyplot as plt"
   ]
  },
  {
   "cell_type": "code",
   "execution_count": 8,
   "metadata": {},
   "outputs": [],
   "source": [
    "def threaded_merge_sort(array, threads):\n",
    "    \n",
    "    # Create multiprocessing objects\n",
    "    thread_manager = Manager()\n",
    "    result_manager = thread_manager.list()\n",
    "    pool = Pool(threads)\n",
    "    \n",
    "    # Add asynchronous processes to pool\n",
    "    for i in range(threads):\n",
    "        pool.apply_async(append_sorted_list, (result_manager, array[i::threads]))\n",
    "    \n",
    "    # Close pool, start, and wait till all processes are finished\n",
    "    pool.close()\n",
    "    pool.join()\n",
    "    \n",
    "    # Merge sort higher dimensional list with module merge from heapq\n",
    "    return list(merge_sorted_lists(*result_manager))"
   ]
  },
  {
   "cell_type": "code",
   "execution_count": 9,
   "metadata": {},
   "outputs": [
    {
     "name": "stdout",
     "output_type": "stream",
     "text": [
      "Compare output algorithms:\n",
      "Merge Sort vs Python Sorted: True\n",
      "1 Threaded Merge VS Python Sorted: True\n",
      "2 Threaded Merge VS Python Sorted: True\n",
      "4 Threaded Merge VS Python Sorted: True\n",
      "6 Threaded Merge VS Python Sorted: True\n",
      "\n",
      "Compare timing algorithms:\n",
      "Sorted time: 5.999999984851456e-06\n",
      "Normal time: 0.0001765000000091277\n",
      "1 thread(s): 0.4529894000000354\n",
      "2 thread(s): 0.47409820000001446\n",
      "3 thread(s): 0.6033591000000342\n",
      "4 thread(s): 0.608789999999999\n",
      "5 thread(s): 0.72725650000001\n",
      "6 thread(s): 0.7534424000000399\n",
      "7 thread(s): 0.8518371000000116\n",
      "8 thread(s): 0.996067700000026\n",
      "9 thread(s): 1.0304628000000093\n",
      "10 thread(s): 1.1909414999999512\n",
      "11 thread(s): 1.195282299999974\n",
      "12 thread(s): 1.3133766000000264\n"
     ]
    },
    {
     "data": {
      "image/png": "[encoded data removed]",
      "text/plain": [
       "<Figure size 432x288 with 1 Axes>"
      ]
     },
     "metadata": {
      "needs_background": "light"
     },
     "output_type": "display_data"
    }
   ],
   "source": [
    "if __name__ == '__main__':\n",
    "    \n",
    "    # Random list with floats or ints\n",
    "    array = generate_random_int_list(100)\n",
    "    \n",
    "    # Test functions\n",
    "    print(\"Compare output algorithms:\")\n",
    "    print(\"Merge Sort vs Python Sorted: \" + str(merge_sort_v3(array) == sorted(array)))\n",
    "    print(\"1 Threaded Merge VS Python Sorted: \" + str(threaded_merge_sort(array, 1) == sorted(array)))\n",
    "    print(\"2 Threaded Merge VS Python Sorted: \" + str(threaded_merge_sort(array, 2) == sorted(array)))\n",
    "    print(\"4 Threaded Merge VS Python Sorted: \" + str(threaded_merge_sort(array, 4) == sorted(array)))\n",
    "    print(\"6 Threaded Merge VS Python Sorted: \" + str(threaded_merge_sort(array, 6) == sorted(array)))\n",
    "    print()\n",
    "    \n",
    "    # Timings\n",
    "    results = []\n",
    "    print(\"Compare timing algorithms:\")\n",
    "    print(\"Sorted time: \" + str(function_timing(sorted, 1, array)))\n",
    "    print(\"Normal time: \" + str(function_timing(merge_sort_v3, 1, array)))\n",
    "    for i in range(1, 13):\n",
    "        timing = function_timing(threaded_merge_sort, 1, array, i)\n",
    "        print(f\"{i} thread(s): \" + str(timing))\n",
    "        results.append(timing)\n",
    "        \n",
    "    plt.figure()\n",
    "    plt.plot(list(range(1, len(results)+1)), results)\n",
    "    plt.xlabel(\"number of threads\")\n",
    "    plt.ylabel(\"runtime in seconds\")\n",
    "    plt.xticks(list(range(1,len(results)+1)))"
   ]
  },
  {
   "cell_type": "code",
   "execution_count": null,
   "metadata": {},
   "outputs": [],
   "source": []
  }
 ],
 "metadata": {
  "kernelspec": {
   "display_name": "Python 3",
   "language": "python",
   "name": "python3"
  },
  "language_info": {
   "codemirror_mode": {
    "name": "ipython",
    "version": 3
   },
   "file_extension": ".py",
   "mimetype": "text/x-python",
   "name": "python",
   "nbconvert_exporter": "python",
   "pygments_lexer": "ipython3",
   "version": "3.7.4"
  }
 },
 "nbformat": 4,
 "nbformat_minor": 2
}
