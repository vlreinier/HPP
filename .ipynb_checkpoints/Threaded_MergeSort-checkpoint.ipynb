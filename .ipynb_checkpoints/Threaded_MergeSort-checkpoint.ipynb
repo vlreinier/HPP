{
 "cells": [
  {
   "cell_type": "code",
   "execution_count": 9,
   "metadata": {},
   "outputs": [],
   "source": [
    "from multiprocessing import Manager, Pool\n",
    "from modules.sorting import merge_sort, merge_sort_v2, sort_append\n",
    "from modules.helpers import generate_random_int_list\n",
    "from modules.timing import function_timing"
   ]
  },
  {
   "cell_type": "code",
   "execution_count": 10,
   "metadata": {},
   "outputs": [],
   "source": [
    "def merge_helper(lst):\n",
    "    idx = [0] * len(lst)\n",
    "    out = []\n",
    "    while len(lst) > 0:\n",
    "        m = 0\n",
    "        for i in range(len(lst)):\n",
    "            if lst[i][idx[i]] < lst[m][idx[m]]:\n",
    "                m = i\n",
    "        out.append(lst[m][idx[m]])\n",
    "        idx[m] += 1\n",
    "        if idx[m] >= len(lst[m]):\n",
    "            del lst[m]\n",
    "            del idx[m]\n",
    "    return out"
   ]
  },
  {
   "cell_type": "code",
   "execution_count": 11,
   "metadata": {},
   "outputs": [],
   "source": [
    "def threaded_merge_sort(array, threads):\n",
    "    \n",
    "    # Create multiprocessing objects\n",
    "    thread_manager = Manager()\n",
    "    result_manager = thread_manager.list()\n",
    "    pool = Pool(threads)\n",
    "    \n",
    "    # Add asynchronous processes to pool\n",
    "    for i in range(threads):\n",
    "        pool.apply_async(sort_append, (result_manager, array[i::threads]))\n",
    "    \n",
    "    # Close pool, start, and wait till all processes are finished\n",
    "    pool.close()\n",
    "    pool.join()\n",
    "    \n",
    "    # Merge sort higher dimensional lists\n",
    "    return merge_helper(result_manager)"
   ]
  },
  {
   "cell_type": "code",
   "execution_count": 12,
   "metadata": {},
   "outputs": [
    {
     "name": "stdout",
     "output_type": "stream",
     "text": [
      "True\n",
      "True\n",
      "True\n",
      "True\n",
      "\n",
      "Normal time: 0.46065360000000055\n",
      "2 thread(s): 37.01652369999999\n",
      "4 thread(s): 35.8214689\n",
      "6 thread(s): 37.31764659999999\n"
     ]
    }
   ],
   "source": [
    "if __name__ == '__main__':\n",
    "    \n",
    "    # Test functions\n",
    "    array = generate_random_int_list(200)\n",
    "    print(merge_sort(array) == sorted(array))\n",
    "    print(threaded_merge_sort(array, 1) == sorted(array))\n",
    "    print(threaded_merge_sort(array, 3) == sorted(array))\n",
    "    print(threaded_merge_sort(array, 8) == sorted(array))\n",
    "    print()\n",
    "    \n",
    "    # Timings\n",
    "    array = generate_random_int_list(10000)\n",
    "    print(\"Normal time: \" + str(function_timing(merge_sort, 1, array)))\n",
    "    for i in range(2, 8, 2):\n",
    "        print(f\"{i} thread(s): \" + str(function_timing(threaded_merge_sort, 1, array, i)))"
   ]
  }
 ],
 "metadata": {
  "kernelspec": {
   "display_name": "Python 3",
   "language": "python",
   "name": "python3"
  },
  "language_info": {
   "codemirror_mode": {
    "name": "ipython",
    "version": 3
   },
   "file_extension": ".py",
   "mimetype": "text/x-python",
   "name": "python",
   "nbconvert_exporter": "python",
   "pygments_lexer": "ipython3",
   "version": "3.7.1"
  }
 },
 "nbformat": 4,
 "nbformat_minor": 2
}
