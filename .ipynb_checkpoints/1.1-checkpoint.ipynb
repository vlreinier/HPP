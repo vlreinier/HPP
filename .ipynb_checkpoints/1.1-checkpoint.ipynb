{
 "cells": [
  {
   "cell_type": "code",
   "execution_count": 2,
   "metadata": {},
   "outputs": [],
   "source": [
    "from modules.sorting import selection_sort, insertion_sort, merge_sort\n",
    "from modules.timing import get_timing\n",
    "from modules.helpers import generate_random_int_list\n",
    "import matplotlib.pyplot as plt"
   ]
  },
  {
   "cell_type": "code",
   "execution_count": null,
   "metadata": {},
   "outputs": [
    {
     "name": "stdout",
     "output_type": "stream",
     "text": [
      "Three random lists with different sizes:\n",
      "\n"
     ]
    }
   ],
   "source": [
    "print(\"Three random lists with different sizes:\\n\")\n",
    "onethousand = generate_random_int_list(1000)\n",
    "tenthousand = generate_random_int_list(10000)\n",
    "thirtythousand = generate_random_int_list(30000)\n",
    "\n",
    "print(get_timing(selection_sort, [onethousand, tenthousand, thirtythousand])[0])\n",
    "print(get_timing(insertion_sort, [onethousand, tenthousand, thirtythousand])[0])\n",
    "print(get_timing(merge_sort, [onethousand, tenthousand, thirtythousand])[0])"
   ]
  },
  {
   "cell_type": "code",
   "execution_count": null,
   "metadata": {},
   "outputs": [],
   "source": [
    "print(\"Sorted list:\\n\")\n",
    "thirtythousand = list(range(1, 30001))\n",
    "\n",
    "print(get_timing(selection_sort, [thirtythousand])[0])\n",
    "print(get_timing(insertion_sort, [thirtythousand])[0])\n",
    "print(get_timing(merge_sort, [thirtythousand])[0])"
   ]
  },
  {
   "cell_type": "code",
   "execution_count": null,
   "metadata": {},
   "outputs": [],
   "source": [
    "print(\"Reversed sorted list:\\n\")\n",
    "thirtythousand_reversed = list(range(1, 30001))[::-1]\n",
    "\n",
    "print(get_timing(selection_sort, [thirtythousand_reversed])[0])\n",
    "print(get_timing(insertion_sort, [thirtythousand_reversed])[0])\n",
    "print(get_timing(merge_sort, [thirtythousand_reversed])[0])"
   ]
  },
  {
   "cell_type": "markdown",
   "metadata": {},
   "source": [
    "### Worst-, Average- and Best-Case Scenarios"
   ]
  },
  {
   "cell_type": "markdown",
   "metadata": {},
   "source": [
    "##### Selection sort\n",
    "\n",
    "Selection sort heeft een tijds complexiteit van O(n^2) voor zowel best, average en worst case scenario's. In dit algoritme wordt een nested for loop gebruikt. De upper loop gaat door de gehele lijst heen, en de loop daaronder doet dit ook, maar hoeft een steeds kortere lijst te doorlopen omdat de elementen voor het huidige element van de upper loop al gesorteerd zijn. Omdat dit algoritme ervoor zorgt dat er veel acties en een nested loop vereist zijn en is het een erg langzaam sorteer algoritme. De grootte van de lijst heeft impact op het runtime van het algoritme omdat deze een exponentieel verloop heeft. \n",
    "\n",
    "Hieronder is te zien in een test hoe de runtime kwadratisch i.p.v. linear oploopt:"
   ]
  },
  {
   "cell_type": "code",
   "execution_count": null,
   "metadata": {},
   "outputs": [],
   "source": [
    "# print and plot timings\n",
    "tests = [generate_random_int_list(i) for i in range(1, 1000, 10)]\n",
    "timings = get_timing(function=selection_sort, parameters=tests, repeat=10)\n",
    "plt.plot(list(timings[1].keys()), list(timings[1].values()))\n",
    "plt.xlabel(\"List size\")\n",
    "plt.ylabel(\"Time in sec\")\n",
    "plt.show()"
   ]
  },
  {
   "cell_type": "markdown",
   "metadata": {},
   "source": [
    "##### Insertion sort\n",
    "\n",
    "Insertion sort heeft een average en worst tijds complexiteit van O(n^2). Dit algoritme lijkt erg veel op het selection sort algoritme. Ook dit algoritme heeft een nested loop waar de efficientie/snelheid erg laag van wordt. Het algoritme gaat voor elk element in de lijst kijken of deze op de goede plek staat. Is dit niet het geval, plaatst deze dit element net zo lang naar links tot het element groter is dan de linker buurman. Dit betekent dat er een while loop in een for loop zit. Ook bij dit algoritme heeft de grootte van de lijst impact op het runtime van het algoritme omdat deze een exponentieel verloop heeft. \n",
    "\n",
    "In het geval dat een lijst al gesorteerd is, is dit algoritme juist zeer snel. Het algoritme loopt de lijst door en hoeft steeds maar 1 keer te vergelijken met de linkerbuurman, en hoeft geen acties te ondernemen. Daardoor heeft insertion sort een best-case tijdscomplexiteit van O(n).\n",
    "\n",
    "Hieronder is te zien in een test hoe de runtime kwadratisch i.p.v. linear oploopt:"
   ]
  },
  {
   "cell_type": "code",
   "execution_count": null,
   "metadata": {},
   "outputs": [],
   "source": [
    "# print and plot timings\n",
    "tests = [generate_random_int_list(i) for i in range(1, 1000, 10)]\n",
    "timings = get_timing(function=insertion_sort, parameters=tests, repeat=10)\n",
    "plt.plot(list(timings[1].keys()), list(timings[1].values()))\n",
    "plt.xlabel(\"List size\")\n",
    "plt.ylabel(\"Time in sec\")\n",
    "plt.show()"
   ]
  },
  {
   "cell_type": "markdown",
   "metadata": {},
   "source": [
    "##### Merge sort\n",
    "\n",
    "Merge sort begint niet met een for loop door alle elementen te lopen zoals selection en insertion sort. Dit algoritme is compleet anders. Merge sort splitst als eerst de lijst in tweeen, en splitst deze 2 delen net zolang tot elk element in een eigen lijst zit. Vanaf onderaf worden alle lijsten weer gesorteerd samengevoegd volgens dezelfde tak als waar ze vandaan kwamen. Als eerst worden deze lijsten met 1 element gesorteerd samengevoegd tot paren. Er worden tijdens het naar boven lijsten vergelijken, steeds 2 lijsten met elkaar vergeleken, waarbij het linkerelement van beide lijsten vergeleken wordt, en deze elementen gesorteerd in de lijst erboven worden samengevoegd. Omdat de paren aan het begin al waren gesorteerd, hoeft het rechterelement van de rechter lijst nooit vergeleken te worden. Dit algoritme is linear en veel efficienter dan bovenstaande algoritmes. Het gebruikt wel meer geheugen omdat er met veel lijsten gewerkt wordt. Het algoritme is niet afhankelijk van (de grootte van) de input en heeft daardoor altijd een tijdscomplexiteit van O(n log(n))\n",
    "\n",
    "Hieronder is te zien in een test hoe de runtime linear i.p.v. kwadratisch oploopt:"
   ]
  },
  {
   "cell_type": "code",
   "execution_count": null,
   "metadata": {},
   "outputs": [],
   "source": [
    "# print and plot timings\n",
    "tests = [generate_random_int_list(i) for i in range(1, 500, 10)]\n",
    "timings = get_timing(function=merge_sort, parameters=tests, repeat=100)\n",
    "plt.plot(list(timings[1].keys()), list(timings[1].values()))\n",
    "plt.xlabel(\"List size\")\n",
    "plt.ylabel(\"Time in sec\")\n",
    "plt.show()"
   ]
  },
  {
   "cell_type": "markdown",
   "metadata": {},
   "source": [
    "### Time difference between recursion and iteration\n",
    "\n",
    "There is no notable difference between recursion and iteration run times. Sometimes recursive methods can be a bit slower due to a lot of function calls, but this depends on the programming language (how code is compiled and run). On the other hand, recursive methods are easier to read and express. Recursive functions generally do use more memory, so recursion depth errors may occur, which makes it unusable for some scenarios."
   ]
  }
 ],
 "metadata": {
  "kernelspec": {
   "display_name": "Python 3",
   "language": "python",
   "name": "python3"
  },
  "language_info": {
   "codemirror_mode": {
    "name": "ipython",
    "version": 3
   },
   "file_extension": ".py",
   "mimetype": "text/x-python",
   "name": "python",
   "nbconvert_exporter": "python",
   "pygments_lexer": "ipython3",
   "version": "3.7.1"
  }
 },
 "nbformat": 4,
 "nbformat_minor": 2
}
