{
 "cells": [
  {
   "cell_type": "code",
   "execution_count": 6,
   "metadata": {
    "scrolled": true
   },
   "outputs": [],
   "source": [
    "from modules.timing import get_timing\n",
    "from random import randint\n",
    "import matplotlib.pyplot as plt\n",
    "from modules.sorting import selection_sort, merge_sort_recursive, merge_sort_iterative, insertion_sort"
   ]
  },
  {
   "cell_type": "code",
   "execution_count": 7,
   "metadata": {},
   "outputs": [],
   "source": [
    "def generate_random_int_list(n, start, end):\n",
    "    return [randint(start, end) for i in range(n)]"
   ]
  },
  {
   "cell_type": "markdown",
   "metadata": {},
   "source": [
    "### Bucket sort\n",
    "\n",
    "Het onderstaande bucket sort algoritme voor positieve en negatieve integers werkt als volgt:\n",
    "\n",
    "- Eerst worden negatieven en positieven gesplitst in twee lijsten, waarbij negatieven positief worden gemaakt.\n",
    "- Vervolgens wordt buckets sort toegepast op beide nu positieve integer lijsten: <br> <br>\n",
    "    - Er wordt van rechts naar links over de index van getallen gelopen tot de maximale lengte van het grootste getal bereikt is. De oplopende index noem ik reverse_digit_idx\n",
    "    - Per reverse_digit_idx wordt een lijst van 10 lege buckets gemaakt\n",
    "    - De getallen die een lengte hebben die gelijk is aan de reverse_digit_idx + 1 worden voor de huidige reverse_digit_idx in een bucket geplaatst. De bucket waar het getal in geplaatst wordt is gelijk aan de index reverse_digit_idx van het getal\n",
    "    - De buckets worden gesorteerd met Python Sorted algoritme en toegvoegd aan de resultaten lijst.<br><br>\n",
    "- Als beide lijsten gesorteerd zijn, worden de negatieve getallen weer negatief gemaakt en omgedraaid\n",
    "- Als laatst worden negatieven samengevoegd met positieven en wordt deze lijst als resultaat teruggegeven"
   ]
  },
  {
   "cell_type": "code",
   "execution_count": 8,
   "metadata": {},
   "outputs": [],
   "source": [
    "def bucket_sort_integers(to_sort):\n",
    "    \n",
    "    # Split up negatives and positives\n",
    "    positives, negatives = [], []\n",
    "    for i in range(len(to_sort)):\n",
    "        if to_sort[i] > 0:\n",
    "            positives.append(to_sort[i])\n",
    "        else:\n",
    "            negatives.append(to_sort[i]*-1)\n",
    "    \n",
    "    # Perform bucket sort\n",
    "    sorted_neg = bucket_sort_pos_int(negatives)\n",
    "    sorted_pos = bucket_sort_pos_int(positives)\n",
    "    \n",
    "    # Make negatives negatives again, reverse negative list and return results\n",
    "    return [i*-1 for i in sorted_neg][::-1] + sorted_pos"
   ]
  },
  {
   "cell_type": "code",
   "execution_count": 9,
   "metadata": {},
   "outputs": [],
   "source": [
    "def bucket_sort_pos_int(to_sort):\n",
    "    \n",
    "    # Current digit index and empty result list\n",
    "    reverse_digit_idx = 0\n",
    "    sorted_list = []\n",
    "\n",
    "    # While number of digits is smaller than max found number of digits\n",
    "    while reverse_digit_idx < len(str(max(to_sort or [0]))):\n",
    "\n",
    "        # Create empty buckets\n",
    "        buckets = [[] for i in range(10)]\n",
    "        \n",
    "        # Place values in buckets\n",
    "        for i in range(len(to_sort)):\n",
    "            \n",
    "            # 30 has length 2, so will place index [-2] of 30 (3) in bucket on index 4 (3 + 1)\n",
    "            if len(str(to_sort[i])) == reverse_digit_idx + 1:\n",
    "                \n",
    "                # Bucket index on digit index reverse_digit_idx\n",
    "                buckets[to_sort[i] // 10**reverse_digit_idx % 10].append(to_sort[i])\n",
    "\n",
    "        # Append sorted buckets to results and increment digit index\n",
    "        sorted_list += [j for bucket in buckets for j in sorted(bucket)]\n",
    "        reverse_digit_idx += 1\n",
    "\n",
    "    return sorted_list"
   ]
  },
  {
   "cell_type": "code",
   "execution_count": 10,
   "metadata": {},
   "outputs": [
    {
     "name": "stdout",
     "output_type": "stream",
     "text": [
      "Original list:\n",
      "[10, -11, -1, -14, -5, 19, 8, -10, 8, -17]\n",
      "Verify with Pythons sorted function:\n",
      "True\n",
      "Sorted list by bucket sort:\n",
      "[-17, -14, -11, -10, -5, -1, 8, 8, 10, 19]\n"
     ]
    }
   ],
   "source": [
    "# test algorithm\n",
    "test = generate_random_int_list(10, -20, 20)\n",
    "print(\"Original list:\")\n",
    "print(test)\n",
    "sorted_list = bucket_sort_integers(test)\n",
    "print(\"Verify with Pythons sorted function:\")\n",
    "print(sorted_list == sorted(test))\n",
    "print(\"Sorted list by bucket sort:\")\n",
    "print(sorted_list)"
   ]
  },
  {
   "cell_type": "markdown",
   "metadata": {},
   "source": [
    "### Big O\n",
    "\n",
    "De gemiddelde en beste tijdscomplexiteit van bucket sort is O(n+k). De runtime van dit algoritme is over het algemeen erg snel omdat er gewerkt wordt met lijsten en lijstindexen. Dit algoritme gebruikt wel meer geheugen net zoals het merge sort algoritme vanwege het gebruik van vele lijsten.\n",
    "\n",
    "Dit runtime is afhankelijk van het aantal gevulde buckets, en het aantal items per bucket.\n",
    "De slechtse tijdscomplexiteit die dit algoritme kan hebben is O(n^2), een kwadratisch verloop. Dit komt voor als alle elementen in 1 bucket vallen en het algoritme dat is gekozen om de buckets te sorteren een tijdscomplexiteit van O(n^2) heeft.\n",
    "\n",
    "Hieronder is te zien dat in het geval van een redelijk spreiding van getallen, zoals een functie van de module random ons garandeert, het tijdverloop linear is."
   ]
  },
  {
   "cell_type": "code",
   "execution_count": 11,
   "metadata": {},
   "outputs": [
    {
     "data": {
      "image/png": "[encoded data removed]",
      "text/plain": [
       "<Figure size 432x288 with 1 Axes>"
      ]
     },
     "metadata": {
      "needs_background": "light"
     },
     "output_type": "display_data"
    }
   ],
   "source": [
    "# print and plot timings bucket_sort_integers (bucket sorted with sorted)\n",
    "tests = [generate_random_int_list(i, -i, i) for i in range(1, 100000, 10000)]\n",
    "timings = get_timing(function=bucket_sort_integers, to_iterate=tests, repeat=5)\n",
    "plt.plot(list(timings[1].keys()), list(timings[1].values()))\n",
    "plt.xlabel(\"List size\")\n",
    "plt.ylabel(\"Time in sec\")\n",
    "plt.show()"
   ]
  },
  {
   "cell_type": "code",
   "execution_count": 12,
   "metadata": {},
   "outputs": [
    {
     "data": {
      "image/png": "[encoded data removed]",
      "text/plain": [
       "<Figure size 432x288 with 1 Axes>"
      ]
     },
     "metadata": {
      "needs_background": "light"
     },
     "output_type": "display_data"
    }
   ],
   "source": [
    "# compare to recursive merge sort\n",
    "tests = [generate_random_int_list(i, -i, i) for i in range(1, 100000, 10000)]\n",
    "timings = get_timing(function=merge_sort_recursive, to_iterate=tests, repeat=5)\n",
    "plt.plot(list(timings[1].keys()), list(timings[1].values()))\n",
    "plt.xlabel(\"List size\")\n",
    "plt.ylabel(\"Time in sec\")\n",
    "plt.show()"
   ]
  }
 ],
 "metadata": {
  "kernelspec": {
   "display_name": "Python 3",
   "language": "python",
   "name": "python3"
  },
  "language_info": {
   "codemirror_mode": {
    "name": "ipython",
    "version": 3
   },
   "file_extension": ".py",
   "mimetype": "text/x-python",
   "name": "python",
   "nbconvert_exporter": "python",
   "pygments_lexer": "ipython3",
   "version": "3.7.1"
  }
 },
 "nbformat": 4,
 "nbformat_minor": 2
}
