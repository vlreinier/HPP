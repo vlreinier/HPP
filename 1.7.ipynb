{
 "cells": [
  {
   "cell_type": "markdown",
   "metadata": {},
   "source": [
    "1.\n",
    "\n",
    "\n",
    "De tijdscomplexiteit voor het opvragen van items in een lijst met behulp van een index is O(1). Het maakt dus niet uit hoe groot de lijst is, de tijd om een item op te halen is gemiddeld altijd gelijk. Dit komt omdat de items op zo'n manier in het geheugen worden opgeslagen dat het altijd weet waar deze te vinden is, zonder hiervoor de gehele lijst te hoeven doorlopen.\n",
    "\n",
    "Het opvragen van een index a.d.h.v. een item heeft echter tijdscomplexiteit O(n), dit komt omdat in Python lijsten niet als linked-lists worden opgeslagen en Python dus zelf door het geheugen moet zoeken.\n",
    "\n",
    "\n",
    "2.\n",
    "\n",
    "\n",
    "Het toevoegen van een item waar de plek niet uit maakt heeft tijdscomplexiteit O(1). Het item kan er een soort van achter geplakt worden. (append functie)\n",
    "\n",
    "Het toevoegen van een item op de juiste plek in een gesorteerde Python lijst, heeft tijdscomplexiteit O(n) (insert functie). Er moet echter eerst gekeken worden waar het item toegevoegd moet worden. Dit heeft een worst-case scenario van O(n), en ligt eraan op welke plek het item geplaatst moet worden. Ik zou daarom zeggen dat deze operatie een tijdscomplexiteit van O(n+k) heeft, waar O(n) de insert functie is, en k het aantal stappen die nodig waren om de juiste plek in de lijst te vinden.\n",
    "\n",
    "\n",
    "\n",
    "3.\n",
    "\n",
    "\n",
    "Het Shell sorting algoritme maakt gebruik van 'gaps' of gaten tussen elementen om deze te vergelijken en zo nodig te verwisselen. Er wordt steeds een bepaalde ruimte tussen elementen gekozen om deze te vergelijken en verwisselen. Door het algoritme heen wordt deze ruimte steeds verkleind waarna het stop bij een ruimte van 0.\n",
    "\n",
    "De tijdscomplexiteit is erg afhankelijk van het bepalen van de ruimtes (gaps). Dit algoritme werkt erg goed op lijst die al al bijna gesorteerd zijn en minder goed op lijsten die verre van gesorteerd zijn. De slechtste tijd is dan ook O(n^2) bij een specifieke variant van Shell sort, al is over het algemeen de slechtse tijd O(n(log(n))^2). De beste tijd voor dit algoritme is O(n(log(n))).\n",
    "\n",
    "\n",
    "4.\n",
    "\n",
    "\n",
    "Het bubble sort algoritme loopt met een for loop steeds door alle elementen van de lijst heen en vergelijkt steeds paren van elementen. Als het rechter element van het paar kleiner is dan het linker element, worden deze elementen gewisseld. Het algoritme loopt meerdere keren door de lijst heen maar hoeft steeds 1 element minder door de lijst te gaan. Dit komt omdat het hoogste element per doorlopen van de lijst steeds naar de uiterst rechter kant gebracht wordt, en dus niet meer bekeken hoeft te worden.\n",
    "\n",
    "Aangezien dit algoritme meerdere keren door de lijst heen gaat met een nested for loop, en met een beetje pech zowat alle elementen moet vergelijken en verwisselen, is dit een zeer onefficient algoritme.\n",
    "De tijdscomplexiteit van Bubble sort is gemiddeld en worst-case O(n^2). Best-case tijd is O(n) in het geval dat de lijst al gesorteerd is, de lijst hoeft alleen doorlopen te worden.\n",
    "\n",
    "\n",
    "5.\n",
    "\n",
    "\n",
    "De torens van Hanoi:\n",
    "De tijdscomplexiteit om het aantal operaties/stappen te vinden is O((2^n)-1). Om de stappen op te tellen geldt een tijdscomplexiteit van O(2^n).\n",
    "\n",
    "\n",
    "6.\n",
    "\n",
    "\n",
    "De tijdscomplexiteit van het creeren van x aantal permutaties is O(n!). Dit is de faculteits functie. For n = 4 : 4 * 3 * 2 * 1."
   ]
  }
 ],
 "metadata": {
  "kernelspec": {
   "display_name": "Python 3",
   "language": "python",
   "name": "python3"
  },
  "language_info": {
   "codemirror_mode": {
    "name": "ipython",
    "version": 3
   },
   "file_extension": ".py",
   "mimetype": "text/x-python",
   "name": "python",
   "nbconvert_exporter": "python",
   "pygments_lexer": "ipython3",
   "version": "3.7.4"
  }
 },
 "nbformat": 4,
 "nbformat_minor": 2
}
